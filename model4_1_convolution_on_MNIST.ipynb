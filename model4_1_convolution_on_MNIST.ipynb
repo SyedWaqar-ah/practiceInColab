{
  "nbformat": 4,
  "nbformat_minor": 0,
  "metadata": {
    "colab": {
      "name": "model4.1_convolution on MNIST.ipynb",
      "provenance": [],
      "collapsed_sections": [],
      "authorship_tag": "ABX9TyOYkHRXmUQhifqYh/84dNbR",
      "include_colab_link": true
    },
    "kernelspec": {
      "name": "python3",
      "display_name": "Python 3"
    }
  },
  "cells": [
    {
      "cell_type": "markdown",
      "metadata": {
        "id": "view-in-github",
        "colab_type": "text"
      },
      "source": [
        "<a href=\"https://colab.research.google.com/github/SyedWaqar-ah/practiceInColab/blob/master/model4_1_convolution_on_MNIST.ipynb\" target=\"_parent\"><img src=\"https://colab.research.google.com/assets/colab-badge.svg\" alt=\"Open In Colab\"/></a>"
      ]
    },
    {
      "cell_type": "markdown",
      "metadata": {
        "id": "tT30bTXwXQf_",
        "colab_type": "text"
      },
      "source": [
        "## My first Convolutional Neural Network for MNIST handwritten data.\n",
        "\n",
        "So, first of all I'll import some inportant stuff and then load my dataset."
      ]
    },
    {
      "cell_type": "code",
      "metadata": {
        "id": "SjnTXgLQVhpP",
        "colab_type": "code",
        "outputId": "786de815-ae0b-4059-9a97-68b2d4ee7971",
        "colab": {
          "base_uri": "https://localhost:8080/",
          "height": 80
        }
      },
      "source": [
        "import tensorflow as tf\n",
        "from keras.datasets import mnist\n",
        "import numpy as nump\n",
        "import pandas as pd\n",
        "from keras.models import Sequential\n",
        "from keras.layers import Dense\n",
        "from keras.layers import Dropout\n",
        "from keras.layers import Flatten\n",
        "from keras.layers.convolutional import Conv2D\n",
        "from keras.layers.convolutional import MaxPooling2D\n",
        "from keras.utils import np_utils\n"
      ],
      "execution_count": 0,
      "outputs": [
        {
          "output_type": "display_data",
          "data": {
            "text/html": [
              "<p style=\"color: red;\">\n",
              "The default version of TensorFlow in Colab will soon switch to TensorFlow 2.x.<br>\n",
              "We recommend you <a href=\"https://www.tensorflow.org/guide/migrate\" target=\"_blank\">upgrade</a> now \n",
              "or ensure your notebook will continue to use TensorFlow 1.x via the <code>%tensorflow_version 1.x</code> magic:\n",
              "<a href=\"https://colab.research.google.com/notebooks/tensorflow_version.ipynb\" target=\"_blank\">more info</a>.</p>\n"
            ],
            "text/plain": [
              "<IPython.core.display.HTML object>"
            ]
          },
          "metadata": {
            "tags": []
          }
        },
        {
          "output_type": "stream",
          "text": [
            "Using TensorFlow backend.\n"
          ],
          "name": "stderr"
        }
      ]
    },
    {
      "cell_type": "code",
      "metadata": {
        "id": "gHSuT471WSqT",
        "colab_type": "code",
        "outputId": "71b49ef9-7244-4ee7-aa4c-5ed358f23ba6",
        "colab": {
          "base_uri": "https://localhost:8080/",
          "height": 51
        }
      },
      "source": [
        " (train_images, train_labels), (test_images, test_labels) = mnist.load_data()"
      ],
      "execution_count": 0,
      "outputs": [
        {
          "output_type": "stream",
          "text": [
            "Downloading data from https://s3.amazonaws.com/img-datasets/mnist.npz\n",
            "11493376/11490434 [==============================] - 0s 0us/step\n"
          ],
          "name": "stdout"
        }
      ]
    },
    {
      "cell_type": "markdown",
      "metadata": {
        "id": "GSXm1dgfX7d0",
        "colab_type": "text"
      },
      "source": [
        "Let's just check if we got correct data"
      ]
    },
    {
      "cell_type": "code",
      "metadata": {
        "id": "AoCyOXzAdsg6",
        "colab_type": "code",
        "outputId": "7b6b1249-e3c6-4a41-f97d-e008d57fa962",
        "colab": {
          "base_uri": "https://localhost:8080/",
          "height": 34
        }
      },
      "source": [
        "train_images.shape[0], train_images.shape[1], train_images.shape[2]"
      ],
      "execution_count": 0,
      "outputs": [
        {
          "output_type": "execute_result",
          "data": {
            "text/plain": [
              "(60000, 28, 28)"
            ]
          },
          "metadata": {
            "tags": []
          },
          "execution_count": 3
        }
      ]
    },
    {
      "cell_type": "markdown",
      "metadata": {
        "id": "QjIubY2upv-M",
        "colab_type": "text"
      },
      "source": [
        "Since we are interested in creating a two dimensional convolutional network, the imput data must be of dimensions [images][width][height][channels].\n",
        "for RGB the channels values goes to 3 for  red, green and blue and it would be like having three inputs for the same image: one for each color. For MNIST data, the images are in grayscale so we are better off with using channel=1.\n",
        "Now let us transform our input tensor to have four distinct dimensions to it."
      ]
    },
    {
      "cell_type": "code",
      "metadata": {
        "id": "b0bqLTwDYMfn",
        "colab_type": "code",
        "colab": {}
      },
      "source": [
        "train_images = train_images.reshape(train_images.shape[0], train_images.shape[1], train_images.shape[2],1).astype('float32')\n",
        "test_images = test_images.reshape(test_images.shape[0], test_images.shape[1], test_images.shape[2],1).astype('float32')"
      ],
      "execution_count": 0,
      "outputs": []
    },
    {
      "cell_type": "code",
      "metadata": {
        "id": "P7Q7ppQljNOc",
        "colab_type": "code",
        "outputId": "530648ad-6acd-4afc-9ea8-657e64926ad5",
        "colab": {
          "base_uri": "https://localhost:8080/",
          "height": 34
        }
      },
      "source": [
        "test_images.shape[0], test_images.shape[1], test_images.shape[2], test_images.shape[3]"
      ],
      "execution_count": 0,
      "outputs": [
        {
          "output_type": "execute_result",
          "data": {
            "text/plain": [
              "(10000, 28, 28, 1)"
            ]
          },
          "metadata": {
            "tags": []
          },
          "execution_count": 5
        }
      ]
    },
    {
      "cell_type": "code",
      "metadata": {
        "id": "8jx9_QsNtxZY",
        "colab_type": "code",
        "colab": {}
      },
      "source": [
        "# normalize inputs from 0-255 to 0-1\n",
        "train_images = train_images / 255\n",
        "test_images = test_images / 255\n",
        "# one hot encode outputs\n",
        "train_labels = np_utils.to_categorical(train_labels)\n",
        "test_labels = np_utils.to_categorical(test_labels)\n",
        "\n",
        "num_classes = test_labels.shape[1]"
      ],
      "execution_count": 0,
      "outputs": []
    },
    {
      "cell_type": "code",
      "metadata": {
        "id": "jp917TCtlkLY",
        "colab_type": "code",
        "outputId": "5c4853b0-268c-452a-e1a9-d11af7b714e4",
        "colab": {
          "base_uri": "https://localhost:8080/",
          "height": 34
        }
      },
      "source": [
        "num_classes"
      ],
      "execution_count": 0,
      "outputs": [
        {
          "output_type": "execute_result",
          "data": {
            "text/plain": [
              "10"
            ]
          },
          "metadata": {
            "tags": []
          },
          "execution_count": 7
        }
      ]
    },
    {
      "cell_type": "markdown",
      "metadata": {
        "id": "nXKKu7Cdt3YU",
        "colab_type": "text"
      },
      "source": [
        "lets see what changes the one-hot encoding does to the labels vector."
      ]
    },
    {
      "cell_type": "code",
      "metadata": {
        "id": "ymtL0cCZt_Vw",
        "colab_type": "code",
        "outputId": "073963ea-8561-4289-dc41-9c69f64403fa",
        "colab": {
          "base_uri": "https://localhost:8080/",
          "height": 34
        }
      },
      "source": [
        "test_labels.shape"
      ],
      "execution_count": 0,
      "outputs": [
        {
          "output_type": "execute_result",
          "data": {
            "text/plain": [
              "(10000, 10)"
            ]
          },
          "metadata": {
            "tags": []
          },
          "execution_count": 17
        }
      ]
    },
    {
      "cell_type": "code",
      "metadata": {
        "id": "BH-E1kaTkLEK",
        "colab_type": "code",
        "outputId": "54b29130-6290-4ea0-fdac-5f529a5a5686",
        "colab": {
          "base_uri": "https://localhost:8080/",
          "height": 34
        }
      },
      "source": [
        "train_labels.shape, test_labels.shape, train_images.shape, test_images.shape"
      ],
      "execution_count": 0,
      "outputs": [
        {
          "output_type": "execute_result",
          "data": {
            "text/plain": [
              "((60000, 10), (10000, 10), (60000, 28, 28, 1), (10000, 28, 28, 1))"
            ]
          },
          "metadata": {
            "tags": []
          },
          "execution_count": 9
        }
      ]
    },
    {
      "cell_type": "markdown",
      "metadata": {
        "id": "EcZ43PPSurwa",
        "colab_type": "text"
      },
      "source": [
        "Now its time to build the model. It should look something like this\n",
        "\n",
        "define baseline_model():\n",
        "\n",
        "  model = Sequential()\n",
        "\n",
        "  model.add(Conv2D())\n",
        "\n",
        "  model.add(MaxPooling2D())\n",
        "\n",
        "  model.add(Dropout)\n",
        "\n",
        "  model.add(Flatten())\n",
        "\n",
        "  model.add(Dense())\n",
        "  \n",
        "  this we will use just as a basic architecture for convolutional network. Many complicated network topologies can be further constructed from this format.\n"
      ]
    },
    {
      "cell_type": "code",
      "metadata": {
        "id": "tn3_Qo7dwwE6",
        "colab_type": "code",
        "colab": {}
      },
      "source": [
        "def baseline_model():\n",
        "  model = Sequential()\n",
        "  model.add(Conv2D(32, (5,5), input_shape=(28,28,1), activation='relu'))\n",
        "  model.add(MaxPooling2D(pool_size=(2,2)))\n",
        "  model.add(Dropout(0.2))\n",
        "  model.add(Flatten())\n",
        "  model.add(Dense(128, activation='relu'))\n",
        "  model.add(Dense(num_classes, activation='softmax'))\n",
        "  model.compile(loss='categorical_crossentropy', optimizer='adam', metrics=['accuracy'])\n",
        "  return model"
      ],
      "execution_count": 0,
      "outputs": []
    },
    {
      "cell_type": "code",
      "metadata": {
        "id": "L4IfNsrvaMjp",
        "colab_type": "code",
        "outputId": "7c97f7cb-317c-41f9-af01-58fdbf45c20e",
        "colab": {
          "base_uri": "https://localhost:8080/",
          "height": 581
        }
      },
      "source": [
        "model = baseline_model()\n",
        "model.fit(train_images, train_labels, validation_data=(test_images, test_labels), epochs=10, batch_size=200, verbose=2)\n",
        "#score = model.evaluate(test_images, test_labels)\n",
        "#print (\"CNN Error = %.2f%%\" % (100-scores[1]*100))"
      ],
      "execution_count": 0,
      "outputs": [
        {
          "output_type": "stream",
          "text": [
            "Train on 60000 samples, validate on 10000 samples\n",
            "Epoch 1/10\n",
            "WARNING:tensorflow:From /usr/local/lib/python3.6/dist-packages/keras/backend/tensorflow_backend.py:190: The name tf.get_default_session is deprecated. Please use tf.compat.v1.get_default_session instead.\n",
            "\n",
            "WARNING:tensorflow:From /usr/local/lib/python3.6/dist-packages/keras/backend/tensorflow_backend.py:197: The name tf.ConfigProto is deprecated. Please use tf.compat.v1.ConfigProto instead.\n",
            "\n",
            "WARNING:tensorflow:From /usr/local/lib/python3.6/dist-packages/keras/backend/tensorflow_backend.py:207: The name tf.global_variables is deprecated. Please use tf.compat.v1.global_variables instead.\n",
            "\n",
            "WARNING:tensorflow:From /usr/local/lib/python3.6/dist-packages/keras/backend/tensorflow_backend.py:216: The name tf.is_variable_initialized is deprecated. Please use tf.compat.v1.is_variable_initialized instead.\n",
            "\n",
            "WARNING:tensorflow:From /usr/local/lib/python3.6/dist-packages/keras/backend/tensorflow_backend.py:223: The name tf.variables_initializer is deprecated. Please use tf.compat.v1.variables_initializer instead.\n",
            "\n",
            " - 30s - loss: 0.2508 - acc: 0.9277 - val_loss: 0.0741 - val_acc: 0.9785\n",
            "Epoch 2/10\n",
            " - 30s - loss: 0.0761 - acc: 0.9775 - val_loss: 0.0488 - val_acc: 0.9842\n",
            "Epoch 3/10\n",
            " - 30s - loss: 0.0528 - acc: 0.9843 - val_loss: 0.0399 - val_acc: 0.9869\n",
            "Epoch 4/10\n",
            " - 30s - loss: 0.0418 - acc: 0.9868 - val_loss: 0.0372 - val_acc: 0.9876\n",
            "Epoch 5/10\n",
            " - 30s - loss: 0.0349 - acc: 0.9887 - val_loss: 0.0415 - val_acc: 0.9868\n",
            "Epoch 6/10\n",
            " - 30s - loss: 0.0291 - acc: 0.9910 - val_loss: 0.0336 - val_acc: 0.9882\n",
            "Epoch 7/10\n",
            " - 30s - loss: 0.0235 - acc: 0.9925 - val_loss: 0.0296 - val_acc: 0.9890\n",
            "Epoch 8/10\n",
            " - 29s - loss: 0.0204 - acc: 0.9934 - val_loss: 0.0320 - val_acc: 0.9893\n",
            "Epoch 9/10\n",
            " - 29s - loss: 0.0163 - acc: 0.9951 - val_loss: 0.0340 - val_acc: 0.9887\n",
            "Epoch 10/10\n",
            " - 29s - loss: 0.0139 - acc: 0.9953 - val_loss: 0.0353 - val_acc: 0.9889\n"
          ],
          "name": "stdout"
        },
        {
          "output_type": "execute_result",
          "data": {
            "text/plain": [
              "<keras.callbacks.History at 0x7f06c3d3cc50>"
            ]
          },
          "metadata": {
            "tags": []
          },
          "execution_count": 14
        }
      ]
    },
    {
      "cell_type": "code",
      "metadata": {
        "id": "Xb4EEkzRiK2o",
        "colab_type": "code",
        "outputId": "2b2b336d-8eda-4200-c992-3535985ef1e6",
        "colab": {
          "base_uri": "https://localhost:8080/",
          "height": 51
        }
      },
      "source": [
        "score = model.evaluate(test_images, test_labels)\n",
        "print (\"CNN Error = %.2f%%\" % (100-score[1]*100))"
      ],
      "execution_count": 0,
      "outputs": [
        {
          "output_type": "stream",
          "text": [
            "10000/10000 [==============================] - 2s 186us/step\n",
            "CNN Error = 1.11%\n"
          ],
          "name": "stdout"
        }
      ]
    },
    {
      "cell_type": "code",
      "metadata": {
        "id": "ofrvwzKbkq-d",
        "colab_type": "code",
        "colab": {}
      },
      "source": [
        ""
      ],
      "execution_count": 0,
      "outputs": []
    }
  ]
}