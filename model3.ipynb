{
  "nbformat": 4,
  "nbformat_minor": 0,
  "metadata": {
    "colab": {
      "name": "model3.ipynb",
      "provenance": [],
      "machine_shape": "hm",
      "authorship_tag": "ABX9TyMmn93udyW03YLItB5Gxeu7",
      "include_colab_link": true
    },
    "kernelspec": {
      "name": "python3",
      "display_name": "Python 3"
    }
  },
  "cells": [
    {
      "cell_type": "markdown",
      "metadata": {
        "id": "view-in-github",
        "colab_type": "text"
      },
      "source": [
        "<a href=\"https://colab.research.google.com/github/SyedWaqar-ah/practiceInColab/blob/master/model3.ipynb\" target=\"_parent\"><img src=\"https://colab.research.google.com/assets/colab-badge.svg\" alt=\"Open In Colab\"/></a>"
      ]
    },
    {
      "cell_type": "code",
      "metadata": {
        "id": "BBBKjedB_VBy",
        "colab_type": "code",
        "outputId": "ed97b8b5-86c7-4a59-8da8-cc3ce70a9e1f",
        "colab": {
          "base_uri": "https://localhost:8080/",
          "height": 80
        }
      },
      "source": [
        "import tensorflow as tf"
      ],
      "execution_count": 0,
      "outputs": [
        {
          "output_type": "display_data",
          "data": {
            "text/html": [
              "<p style=\"color: red;\">\n",
              "The default version of TensorFlow in Colab will soon switch to TensorFlow 2.x.<br>\n",
              "We recommend you <a href=\"https://www.tensorflow.org/guide/migrate\" target=\"_blank\">upgrade</a> now \n",
              "or ensure your notebook will continue to use TensorFlow 1.x via the <code>%tensorflow_version 1.x</code> magic:\n",
              "<a href=\"https://colab.research.google.com/notebooks/tensorflow_version.ipynb\" target=\"_blank\">more info</a>.</p>\n"
            ],
            "text/plain": [
              "<IPython.core.display.HTML object>"
            ]
          },
          "metadata": {
            "tags": []
          }
        }
      ]
    },
    {
      "cell_type": "code",
      "metadata": {
        "id": "UmuAdqXDBjw9",
        "colab_type": "code",
        "colab": {}
      },
      "source": [
        "import numpy as np\n",
        "import pandas as pd\n",
        "import matplotlib.pyplot as plt"
      ],
      "execution_count": 0,
      "outputs": []
    },
    {
      "cell_type": "code",
      "metadata": {
        "id": "rccuxnibBtP8",
        "colab_type": "code",
        "colab": {
          "base_uri": "https://localhost:8080/",
          "height": 63
        },
        "outputId": "ccb86433-931e-4675-fcc6-b686defdc88f"
      },
      "source": [
        "from tensorflow.keras.datasets import imdb\n",
        "from tensorflow.keras import models, layers, optimizers"
      ],
      "execution_count": 2,
      "outputs": [
        {
          "output_type": "display_data",
          "data": {
            "text/html": [
              "<p style=\"color: red;\">\n",
              "The default version of TensorFlow in Colab will soon switch to TensorFlow 2.x.<br>\n",
              "We recommend you <a href=\"https://www.tensorflow.org/guide/migrate\" target=\"_blank\">upgrade</a> now \n",
              "or ensure your notebook will continue to use TensorFlow 1.x via the <code>%tensorflow_version 1.x</code> magic:\n",
              "<a href=\"https://colab.research.google.com/notebooks/tensorflow_version.ipynb\" target=\"_blank\">more info</a>.</p>\n"
            ],
            "text/plain": [
              "<IPython.core.display.HTML object>"
            ]
          },
          "metadata": {
            "tags": []
          }
        }
      ]
    },
    {
      "cell_type": "code",
      "metadata": {
        "id": "O55MrdbVEkMz",
        "colab_type": "code",
        "outputId": "53bb6ee6-1322-4248-913b-7c49d05b71c8",
        "colab": {
          "base_uri": "https://localhost:8080/",
          "height": 105
        }
      },
      "source": [
        "(train_data, train_labels), (test_data, test_labels) = imdb.load_data(num_words=10000)\n",
        "print(train_data[0])\n",
        "print(train_labels[0])"
      ],
      "execution_count": 3,
      "outputs": [
        {
          "output_type": "stream",
          "text": [
            "Downloading data from https://storage.googleapis.com/tensorflow/tf-keras-datasets/imdb.npz\n",
            "17465344/17464789 [==============================] - 0s 0us/step\n",
            "[1, 14, 22, 16, 43, 530, 973, 1622, 1385, 65, 458, 4468, 66, 3941, 4, 173, 36, 256, 5, 25, 100, 43, 838, 112, 50, 670, 2, 9, 35, 480, 284, 5, 150, 4, 172, 112, 167, 2, 336, 385, 39, 4, 172, 4536, 1111, 17, 546, 38, 13, 447, 4, 192, 50, 16, 6, 147, 2025, 19, 14, 22, 4, 1920, 4613, 469, 4, 22, 71, 87, 12, 16, 43, 530, 38, 76, 15, 13, 1247, 4, 22, 17, 515, 17, 12, 16, 626, 18, 2, 5, 62, 386, 12, 8, 316, 8, 106, 5, 4, 2223, 5244, 16, 480, 66, 3785, 33, 4, 130, 12, 16, 38, 619, 5, 25, 124, 51, 36, 135, 48, 25, 1415, 33, 6, 22, 12, 215, 28, 77, 52, 5, 14, 407, 16, 82, 2, 8, 4, 107, 117, 5952, 15, 256, 4, 2, 7, 3766, 5, 723, 36, 71, 43, 530, 476, 26, 400, 317, 46, 7, 4, 2, 1029, 13, 104, 88, 4, 381, 15, 297, 98, 32, 2071, 56, 26, 141, 6, 194, 7486, 18, 4, 226, 22, 21, 134, 476, 26, 480, 5, 144, 30, 5535, 18, 51, 36, 28, 224, 92, 25, 104, 4, 226, 65, 16, 38, 1334, 88, 12, 16, 283, 5, 16, 4472, 113, 103, 32, 15, 16, 5345, 19, 178, 32]\n",
            "1\n"
          ],
          "name": "stdout"
        }
      ]
    },
    {
      "cell_type": "code",
      "metadata": {
        "id": "NWYUcvFbE4M0",
        "colab_type": "code",
        "outputId": "f91a15d5-1709-4920-db72-29b71142d9ce",
        "colab": {
          "base_uri": "https://localhost:8080/",
          "height": 34
        }
      },
      "source": [
        "# As Argument num_words restricts function to load only 10,000 most used words.\n",
        "#To check we can execute the above snippet it will display the max word index in\n",
        "#train_data\n",
        "max([max(sequence) for sequence in train_data])"
      ],
      "execution_count": 4,
      "outputs": [
        {
          "output_type": "execute_result",
          "data": {
            "text/plain": [
              "9999"
            ]
          },
          "metadata": {
            "tags": []
          },
          "execution_count": 4
        }
      ]
    },
    {
      "cell_type": "code",
      "metadata": {
        "id": "J0b1lEhyn0MU",
        "colab_type": "code",
        "colab": {}
      },
      "source": [
        "def vectorize_sequences(sequences, dimension=10000):\n",
        "  results = np.zeros((len(sequences), dimension))\n",
        "  for i, sequence in enumerate(sequences):\n",
        "    results[i, sequence] = 1\n",
        "  return results\n",
        "x_train = vectorize_sequences(train_data)\n",
        "x_test = vectorize_sequences(test_data)\n",
        "y_train = np.asarray(train_labels).astype('float32')\n",
        "y_test = np.asarray(test_labels).astype('float32')"
      ],
      "execution_count": 0,
      "outputs": []
    },
    {
      "cell_type": "code",
      "metadata": {
        "id": "XTh2v2aWpUmU",
        "colab_type": "code",
        "colab": {}
      },
      "source": [
        "model = models.Sequential()\n",
        "model.add(layers.Dense(16, activation='relu', input_shape = (10000,)))\n",
        "model.add(layers.Dense(16, activation='relu'))\n",
        "model.add(layers.Dense(1, activation='sigmoid'))"
      ],
      "execution_count": 0,
      "outputs": []
    },
    {
      "cell_type": "code",
      "metadata": {
        "id": "xP5QoHYfsgNW",
        "colab_type": "code",
        "outputId": "4ddc68a0-b69f-4633-cdb8-98e3ef0307f6",
        "colab": {
          "base_uri": "https://localhost:8080/",
          "height": 714
        }
      },
      "source": [
        "model.compile(optimizer='rmsprop', loss='binary_crossentropy', metrics=['acc'])\n",
        "history = model.fit(x_train, y_train, epochs=20, batch_size=512, validation_data=(x_test, y_test))"
      ],
      "execution_count": 11,
      "outputs": [
        {
          "output_type": "stream",
          "text": [
            "Train on 25000 samples, validate on 25000 samples\n",
            "Epoch 1/20\n",
            "25000/25000 [==============================] - 4s 159us/sample - loss: 0.4637 - acc: 0.8113 - val_loss: 0.3663 - val_acc: 0.8585\n",
            "Epoch 2/20\n",
            "25000/25000 [==============================] - 4s 147us/sample - loss: 0.2643 - acc: 0.9086 - val_loss: 0.2977 - val_acc: 0.8813\n",
            "Epoch 3/20\n",
            "25000/25000 [==============================] - 4s 149us/sample - loss: 0.2030 - acc: 0.9281 - val_loss: 0.3252 - val_acc: 0.8683\n",
            "Epoch 4/20\n",
            "25000/25000 [==============================] - 4s 147us/sample - loss: 0.1709 - acc: 0.9391 - val_loss: 0.2921 - val_acc: 0.8848\n",
            "Epoch 5/20\n",
            "25000/25000 [==============================] - 4s 145us/sample - loss: 0.1473 - acc: 0.9478 - val_loss: 0.3413 - val_acc: 0.8690\n",
            "Epoch 6/20\n",
            "25000/25000 [==============================] - 4s 150us/sample - loss: 0.1283 - acc: 0.9563 - val_loss: 0.3500 - val_acc: 0.8698\n",
            "Epoch 7/20\n",
            "25000/25000 [==============================] - 4s 149us/sample - loss: 0.1150 - acc: 0.9602 - val_loss: 0.3524 - val_acc: 0.8730\n",
            "Epoch 8/20\n",
            "25000/25000 [==============================] - 4s 149us/sample - loss: 0.0998 - acc: 0.9667 - val_loss: 0.4404 - val_acc: 0.8570\n",
            "Epoch 9/20\n",
            "25000/25000 [==============================] - 4s 142us/sample - loss: 0.0880 - acc: 0.9713 - val_loss: 0.4064 - val_acc: 0.8664\n",
            "Epoch 10/20\n",
            "25000/25000 [==============================] - 4s 142us/sample - loss: 0.0791 - acc: 0.9734 - val_loss: 0.4344 - val_acc: 0.8639\n",
            "Epoch 11/20\n",
            "25000/25000 [==============================] - 4s 142us/sample - loss: 0.0702 - acc: 0.9778 - val_loss: 0.5082 - val_acc: 0.8534\n",
            "Epoch 12/20\n",
            "25000/25000 [==============================] - 4s 141us/sample - loss: 0.0603 - acc: 0.9814 - val_loss: 0.5270 - val_acc: 0.8567\n",
            "Epoch 13/20\n",
            "25000/25000 [==============================] - 3s 140us/sample - loss: 0.0559 - acc: 0.9822 - val_loss: 0.5642 - val_acc: 0.8508\n",
            "Epoch 14/20\n",
            "25000/25000 [==============================] - 4s 141us/sample - loss: 0.0477 - acc: 0.9862 - val_loss: 0.5718 - val_acc: 0.8529\n",
            "Epoch 15/20\n",
            "25000/25000 [==============================] - 3s 138us/sample - loss: 0.0413 - acc: 0.9885 - val_loss: 0.6074 - val_acc: 0.8515\n",
            "Epoch 16/20\n",
            "25000/25000 [==============================] - 3s 138us/sample - loss: 0.0356 - acc: 0.9900 - val_loss: 0.6160 - val_acc: 0.8543\n",
            "Epoch 17/20\n",
            "25000/25000 [==============================] - 3s 137us/sample - loss: 0.0304 - acc: 0.9916 - val_loss: 0.6669 - val_acc: 0.8523\n",
            "Epoch 18/20\n",
            "25000/25000 [==============================] - 3s 137us/sample - loss: 0.0270 - acc: 0.9927 - val_loss: 0.6940 - val_acc: 0.8519\n",
            "Epoch 19/20\n",
            "25000/25000 [==============================] - 3s 138us/sample - loss: 0.0212 - acc: 0.9948 - val_loss: 0.7261 - val_acc: 0.8508\n",
            "Epoch 20/20\n",
            "25000/25000 [==============================] - 3s 139us/sample - loss: 0.0186 - acc: 0.9954 - val_loss: 0.7823 - val_acc: 0.8502\n"
          ],
          "name": "stdout"
        }
      ]
    },
    {
      "cell_type": "code",
      "metadata": {
        "id": "Pjbk712StM3w",
        "colab_type": "code",
        "colab": {
          "base_uri": "https://localhost:8080/",
          "height": 312
        },
        "outputId": "56c99c05-504f-469f-b50d-a48e2d789a36"
      },
      "source": [
        "history_dict = history.history\n",
        "loss_values = history_dict['loss']\n",
        "val_loss_values = history_dict['val_loss']\n",
        "epochs = range(1, len(loss_values) + 1)\n",
        "plt.plot(epochs, loss_values, 'bo', label='Training loss')\n",
        "plt.plot(epochs, val_loss_values, 'b', label='Validation loss')\n",
        "plt.title('Training and validation loss')\n",
        "plt.xlabel('Epochs')\n",
        "plt.ylabel('Loss')\n",
        "plt.legend()\n",
        "plt.show()\n",
        "plt.clf()"
      ],
      "execution_count": 12,
      "outputs": [
        {
          "output_type": "display_data",
          "data": {
            "image/png": "[encoded data removed]",
            "text/plain": [
              "<Figure size 432x288 with 1 Axes>"
            ]
          },
          "metadata": {
            "tags": []
          }
        },
        {
          "output_type": "display_data",
          "data": {
            "text/plain": [
              "<Figure size 432x288 with 0 Axes>"
            ]
          },
          "metadata": {
            "tags": []
          }
        }
      ]
    },
    {
      "cell_type": "code",
      "metadata": {
        "id": "g7jSr4zIYGp3",
        "colab_type": "code",
        "colab": {
          "base_uri": "https://localhost:8080/",
          "height": 295
        },
        "outputId": "523b8981-25b2-47f5-c20b-baa7f767843c"
      },
      "source": [
        "acc_values = history_dict['acc']\n",
        "val_acc_values = history_dict['val_acc']\n",
        "plt.plot(epochs, acc_values, 'bo', label='Training acc')\n",
        "plt.plot(epochs, val_acc_values, 'b', label='Validation acc')\n",
        "plt.title('Training and validation accuracy')\n",
        "plt.xlabel('Epochs')\n",
        "plt.ylabel('Loss')\n",
        "plt.legend()\n",
        "plt.show()"
      ],
      "execution_count": 13,
      "outputs": [
        {
          "output_type": "display_data",
          "data": {
            "image/png": "[encoded data removed]",
            "text/plain": [
              "<Figure size 432x288 with 1 Axes>"
            ]
          },
          "metadata": {
            "tags": []
          }
        }
      ]
    },
    {
      "cell_type": "code",
      "metadata": {
        "id": "JYTCY0RDYO7y",
        "colab_type": "code",
        "colab": {}
      },
      "source": [
        ""
      ],
      "execution_count": 0,
      "outputs": []
    }
  ]
}