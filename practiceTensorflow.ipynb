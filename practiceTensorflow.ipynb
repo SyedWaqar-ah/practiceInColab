{
  "nbformat": 4,
  "nbformat_minor": 0,
  "metadata": {
    "colab": {
      "name": "practiceTensorflow.ipynb",
      "provenance": [],
      "authorship_tag": "ABX9TyPSAS2xiWFkvid4qvGEFDkZ",
      "include_colab_link": true
    },
    "kernelspec": {
      "name": "python3",
      "display_name": "Python 3"
    }
  },
  "cells": [
    {
      "cell_type": "markdown",
      "metadata": {
        "id": "view-in-github",
        "colab_type": "text"
      },
      "source": [
        "<a href=\"https://colab.research.google.com/github/SyedWaqar-ah/practiceInColab/blob/master/practiceTensorflow.ipynb\" target=\"_parent\"><img src=\"https://colab.research.google.com/assets/colab-badge.svg\" alt=\"Open In Colab\"/></a>"
      ]
    },
    {
      "cell_type": "code",
      "metadata": {
        "id": "Z35X9TTLvcXx",
        "colab_type": "code",
        "colab": {
          "base_uri": "https://localhost:8080/",
          "height": 63
        },
        "outputId": "74aa70d4-0659-4457-d360-8f0e73aa6411"
      },
      "source": [
        "import tensorflow as tf"
      ],
      "execution_count": 1,
      "outputs": [
        {
          "output_type": "display_data",
          "data": {
            "text/html": [
              "<p style=\"color: red;\">\n",
              "The default version of TensorFlow in Colab will soon switch to TensorFlow 2.x.<br>\n",
              "We recommend you <a href=\"https://www.tensorflow.org/guide/migrate\" target=\"_blank\">upgrade</a> now \n",
              "or ensure your notebook will continue to use TensorFlow 1.x via the <code>%tensorflow_version 1.x</code> magic:\n",
              "<a href=\"https://colab.research.google.com/notebooks/tensorflow_version.ipynb\" target=\"_blank\">more info</a>.</p>\n"
            ],
            "text/plain": [
              "<IPython.core.display.HTML object>"
            ]
          },
          "metadata": {
            "tags": []
          }
        }
      ]
    },
    {
      "cell_type": "code",
      "metadata": {
        "id": "kxTrHEWQw0eS",
        "colab_type": "code",
        "colab": {
          "base_uri": "https://localhost:8080/",
          "height": 34
        },
        "outputId": "b5e82ed8-5992-4453-e263-303a520b1f1f"
      },
      "source": [
        "print(tf.version)"
      ],
      "execution_count": 3,
      "outputs": [
        {
          "output_type": "stream",
          "text": [
            "<module 'tensorflow._api.v1.version' from '/usr/local/lib/python3.6/dist-packages/tensorflow_core/_api/v1/version/__init__.py'>\n"
          ],
          "name": "stdout"
        }
      ]
    },
    {
      "cell_type": "code",
      "metadata": {
        "id": "6UiO47TOxGrE",
        "colab_type": "code",
        "colab": {
          "base_uri": "https://localhost:8080/",
          "height": 153
        },
        "outputId": "b13cea41-9ffd-4469-ab29-93d04788dc99"
      },
      "source": [
        "mnist=tf.keras.datasets.fashion_mnist\n",
        "(training_images,training_labels),(test_images,test_labels)=mnist.load_data()"
      ],
      "execution_count": 4,
      "outputs": [
        {
          "output_type": "stream",
          "text": [
            "Downloading data from https://storage.googleapis.com/tensorflow/tf-keras-datasets/train-labels-idx1-ubyte.gz\n",
            "32768/29515 [=================================] - 0s 0us/step\n",
            "Downloading data from https://storage.googleapis.com/tensorflow/tf-keras-datasets/train-images-idx3-ubyte.gz\n",
            "26427392/26421880 [==============================] - 0s 0us/step\n",
            "Downloading data from https://storage.googleapis.com/tensorflow/tf-keras-datasets/t10k-labels-idx1-ubyte.gz\n",
            "8192/5148 [===============================================] - 0s 0us/step\n",
            "Downloading data from https://storage.googleapis.com/tensorflow/tf-keras-datasets/t10k-images-idx3-ubyte.gz\n",
            "4423680/4422102 [==============================] - 0s 0us/step\n"
          ],
          "name": "stdout"
        }
      ]
    },
    {
      "cell_type": "code",
      "metadata": {
        "id": "zx0Fdtgwxhce",
        "colab_type": "code",
        "colab": {}
      },
      "source": [
        "training_images = training_images/255\n",
        "test_images = test_images/255"
      ],
      "execution_count": 0,
      "outputs": []
    },
    {
      "cell_type": "code",
      "metadata": {
        "id": "TMREC_4vxy15",
        "colab_type": "code",
        "colab": {}
      },
      "source": [
        "model = tf.keras.models.Sequential([tf.keras.layers.Flatten(), tf.keras.layers.Dense(128, activation=tf.nn.relu), tf.keras.layers.Dense(10, activation=tf.nn.softmax)])"
      ],
      "execution_count": 0,
      "outputs": []
    },
    {
      "cell_type": "code",
      "metadata": {
        "id": "2XOgv8qJ2MLK",
        "colab_type": "code",
        "colab": {}
      },
      "source": [
        "model.compile(optimizer=tf.keras.optimizers.Adam(), loss='sparse_categorical_crossentropy', metrics=['accuracy'])"
      ],
      "execution_count": 0,
      "outputs": []
    },
    {
      "cell_type": "code",
      "metadata": {
        "id": "kQwISB493UhH",
        "colab_type": "code",
        "colab": {
          "base_uri": "https://localhost:8080/",
          "height": 561
        },
        "outputId": "8a671eac-6ab3-4159-e932-6c2b56412cdc"
      },
      "source": [
        "model.fit(training_images,training_labels, epochs=15)"
      ],
      "execution_count": 11,
      "outputs": [
        {
          "output_type": "stream",
          "text": [
            "Train on 60000 samples\n",
            "Epoch 1/15\n",
            "60000/60000 [==============================] - 4s 68us/sample - loss: 0.4212 - acc: 0.8515\n",
            "Epoch 2/15\n",
            "60000/60000 [==============================] - 4s 68us/sample - loss: 0.4151 - acc: 0.8539\n",
            "Epoch 3/15\n",
            "60000/60000 [==============================] - 4s 71us/sample - loss: 0.4097 - acc: 0.8556\n",
            "Epoch 4/15\n",
            "60000/60000 [==============================] - 4s 68us/sample - loss: 0.4045 - acc: 0.8582\n",
            "Epoch 5/15\n",
            "60000/60000 [==============================] - 4s 73us/sample - loss: 0.3992 - acc: 0.8595\n",
            "Epoch 6/15\n",
            "60000/60000 [==============================] - 4s 68us/sample - loss: 0.3947 - acc: 0.8611\n",
            "Epoch 7/15\n",
            "60000/60000 [==============================] - 4s 67us/sample - loss: 0.3914 - acc: 0.8619\n",
            "Epoch 8/15\n",
            "60000/60000 [==============================] - 4s 71us/sample - loss: 0.3868 - acc: 0.8634\n",
            "Epoch 9/15\n",
            "60000/60000 [==============================] - 4s 70us/sample - loss: 0.3834 - acc: 0.8644\n",
            "Epoch 10/15\n",
            "60000/60000 [==============================] - 4s 67us/sample - loss: 0.3799 - acc: 0.8667\n",
            "Epoch 11/15\n",
            "60000/60000 [==============================] - 4s 71us/sample - loss: 0.3765 - acc: 0.8673\n",
            "Epoch 12/15\n",
            "60000/60000 [==============================] - 4s 70us/sample - loss: 0.3736 - acc: 0.8674\n",
            "Epoch 13/15\n",
            "60000/60000 [==============================] - 4s 69us/sample - loss: 0.3705 - acc: 0.8693\n",
            "Epoch 14/15\n",
            "60000/60000 [==============================] - 4s 71us/sample - loss: 0.3673 - acc: 0.8709\n",
            "Epoch 15/15\n",
            "60000/60000 [==============================] - 4s 67us/sample - loss: 0.3647 - acc: 0.8708\n"
          ],
          "name": "stdout"
        },
        {
          "output_type": "execute_result",
          "data": {
            "text/plain": [
              "<tensorflow.python.keras.callbacks.History at 0x7f843b562c50>"
            ]
          },
          "metadata": {
            "tags": []
          },
          "execution_count": 11
        }
      ]
    },
    {
      "cell_type": "code",
      "metadata": {
        "id": "QIYEyVnx3m7H",
        "colab_type": "code",
        "colab": {
          "base_uri": "https://localhost:8080/",
          "height": 51
        },
        "outputId": "fae2408b-f060-49b8-c849-31575f2d852f"
      },
      "source": [
        "model.evaluate(test_images,test_labels)"
      ],
      "execution_count": 12,
      "outputs": [
        {
          "output_type": "stream",
          "text": [
            "10000/10000 [==============================] - 0s 34us/sample - loss: 81.8776 - acc: 0.7184\n"
          ],
          "name": "stdout"
        },
        {
          "output_type": "execute_result",
          "data": {
            "text/plain": [
              "[81.87761234741211, 0.7184]"
            ]
          },
          "metadata": {
            "tags": []
          },
          "execution_count": 12
        }
      ]
    },
    {
      "cell_type": "code",
      "metadata": {
        "id": "a8YzCelY4um_",
        "colab_type": "code",
        "colab": {}
      },
      "source": [
        ""
      ],
      "execution_count": 0,
      "outputs": []
    }
  ]
}