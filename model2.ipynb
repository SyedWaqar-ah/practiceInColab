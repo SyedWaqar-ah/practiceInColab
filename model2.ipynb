{
  "nbformat": 4,
  "nbformat_minor": 0,
  "metadata": {
    "colab": {
      "name": "Untitled0.ipynb",
      "provenance": [],
      "collapsed_sections": [],
      "authorship_tag": "ABX9TyPX2/LohJzgUQiGNWE+IsLi",
      "include_colab_link": true
    },
    "kernelspec": {
      "name": "python3",
      "display_name": "Python 3"
    }
  },
  "cells": [
    {
      "cell_type": "markdown",
      "metadata": {
        "id": "view-in-github",
        "colab_type": "text"
      },
      "source": [
        "<a href=\"https://colab.research.google.com/github/SyedWaqar-ah/practiceInColab/blob/master/Untitled0.ipynb\" target=\"_parent\"><img src=\"https://colab.research.google.com/assets/colab-badge.svg\" alt=\"Open In Colab\"/></a>"
      ]
    },
    {
      "cell_type": "code",
      "metadata": {
        "id": "QwfeJcbSCEIu",
        "colab_type": "code",
        "outputId": "f5a45ad5-4bbb-4171-ef9b-afb76b330eed",
        "colab": {
          "base_uri": "https://localhost:8080/",
          "height": 598
        }
      },
      "source": [
        "import tensorflow as tf\n",
        "mnist = tf.keras.datasets.fashion_mnist\n",
        "(train_images,train_labels),(test_images,test_labels) = mnist.load_data()\n",
        "train_images = train_images/255\n",
        "test_images = test_images/255\n",
        "model = tf.keras.models.Sequential([tf.keras.layers.Flatten(), tf.keras.layers.Dense(512, activation = tf.nn.relu), tf.keras.layers.Dense(10, activation = tf.nn.softmax)])\n",
        "model.compile(optimizer=tf.keras.optimizers.Adam(), loss='sparse_categorical_crossentropy', metrics=['accuracy'])\n",
        "model.fit(train_images, train_labels, epochs=10, batch_size=128)"
      ],
      "execution_count": 0,
      "outputs": [
        {
          "output_type": "stream",
          "text": [
            "Downloading data from https://storage.googleapis.com/tensorflow/tf-keras-datasets/train-labels-idx1-ubyte.gz\n",
            "32768/29515 [=================================] - 0s 0us/step\n",
            "Downloading data from https://storage.googleapis.com/tensorflow/tf-keras-datasets/train-images-idx3-ubyte.gz\n",
            "26427392/26421880 [==============================] - 0s 0us/step\n",
            "Downloading data from https://storage.googleapis.com/tensorflow/tf-keras-datasets/t10k-labels-idx1-ubyte.gz\n",
            "8192/5148 [===============================================] - 0s 0us/step\n",
            "Downloading data from https://storage.googleapis.com/tensorflow/tf-keras-datasets/t10k-images-idx3-ubyte.gz\n",
            "4423680/4422102 [==============================] - 0s 0us/step\n",
            "WARNING:tensorflow:From /usr/local/lib/python3.6/dist-packages/tensorflow_core/python/ops/resource_variable_ops.py:1630: calling BaseResourceVariable.__init__ (from tensorflow.python.ops.resource_variable_ops) with constraint is deprecated and will be removed in a future version.\n",
            "Instructions for updating:\n",
            "If using Keras pass *_constraint arguments to layers.\n",
            "Train on 60000 samples\n",
            "Epoch 1/10\n",
            "60000/60000 [==============================] - 3s 58us/sample - loss: 0.5107 - acc: 0.8203\n",
            "Epoch 2/10\n",
            "60000/60000 [==============================] - 3s 56us/sample - loss: 0.3735 - acc: 0.8671\n",
            "Epoch 3/10\n",
            "60000/60000 [==============================] - 4s 58us/sample - loss: 0.3330 - acc: 0.8786\n",
            "Epoch 4/10\n",
            "60000/60000 [==============================] - 3s 55us/sample - loss: 0.3066 - acc: 0.8885\n",
            "Epoch 5/10\n",
            "60000/60000 [==============================] - 3s 57us/sample - loss: 0.2885 - acc: 0.8935\n",
            "Epoch 6/10\n",
            "60000/60000 [==============================] - 3s 56us/sample - loss: 0.2741 - acc: 0.8986\n",
            "Epoch 7/10\n",
            "60000/60000 [==============================] - 3s 55us/sample - loss: 0.2560 - acc: 0.9049\n",
            "Epoch 8/10\n",
            "60000/60000 [==============================] - 3s 58us/sample - loss: 0.2465 - acc: 0.9089\n",
            "Epoch 9/10\n",
            "60000/60000 [==============================] - 4s 59us/sample - loss: 0.2352 - acc: 0.9118\n",
            "Epoch 10/10\n",
            "60000/60000 [==============================] - 4s 58us/sample - loss: 0.2261 - acc: 0.9164\n"
          ],
          "name": "stdout"
        },
        {
          "output_type": "execute_result",
          "data": {
            "text/plain": [
              "<tensorflow.python.keras.callbacks.History at 0x7fbd73226eb8>"
            ]
          },
          "metadata": {
            "tags": []
          },
          "execution_count": 2
        }
      ]
    },
    {
      "cell_type": "code",
      "metadata": {
        "id": "lkz9zJ0YE93l",
        "colab_type": "code",
        "outputId": "c450e5bd-01ed-4118-d705-96b5592acc00",
        "colab": {
          "base_uri": "https://localhost:8080/",
          "height": 51
        }
      },
      "source": [
        "model.evaluate(test_images,test_labels)"
      ],
      "execution_count": 0,
      "outputs": [
        {
          "output_type": "stream",
          "text": [
            "10000/10000 [==============================] - 1s 57us/sample - loss: 0.3142 - acc: 0.8915\n"
          ],
          "name": "stdout"
        },
        {
          "output_type": "execute_result",
          "data": {
            "text/plain": [
              "[0.314184049475193, 0.8915]"
            ]
          },
          "metadata": {
            "tags": []
          },
          "execution_count": 5
        }
      ]
    },
    {
      "cell_type": "code",
      "metadata": {
        "id": "1fQFcx9HFpZM",
        "colab_type": "code",
        "colab": {}
      },
      "source": [
        ""
      ],
      "execution_count": 0,
      "outputs": []
    }
  ]
}
